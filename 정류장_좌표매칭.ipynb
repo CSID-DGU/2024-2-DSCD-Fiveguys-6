{
  "nbformat": 4,
  "nbformat_minor": 0,
  "metadata": {
    "colab": {
      "private_outputs": true,
      "provenance": [],
      "include_colab_link": true
    },
    "kernelspec": {
      "name": "python3",
      "display_name": "Python 3"
    },
    "language_info": {
      "name": "python"
    }
  },
  "cells": [
    {
      "cell_type": "markdown",
      "metadata": {
        "id": "view-in-github",
        "colab_type": "text"
      },
      "source": [
        "<a href=\"https://colab.research.google.com/github/CSID-DGU/2024-2-DSCD-Fiveguys-6/blob/main/%EC%A0%95%EB%A5%98%EC%9E%A5_%EC%A2%8C%ED%91%9C%EB%A7%A4%EC%B9%AD.ipynb\" target=\"_parent\"><img src=\"https://colab.research.google.com/assets/colab-badge.svg\" alt=\"Open In Colab\"/></a>"
      ]
    },
    {
      "cell_type": "code",
      "execution_count": null,
      "metadata": {
        "id": "y0_bJglB04EK"
      },
      "outputs": [],
      "source": [
        "import pandas as pd"
      ]
    },
    {
      "cell_type": "code",
      "source": [
        "df = pd.read_csv('/content/drive/MyDrive/DSCD/data/최종데이터/버스정류장_주소.csv', encoding='CP949')"
      ],
      "metadata": {
        "id": "ACNPior81GIW"
      },
      "execution_count": null,
      "outputs": []
    },
    {
      "cell_type": "code",
      "source": [
        "df"
      ],
      "metadata": {
        "id": "kY7zRcdj17O5"
      },
      "execution_count": null,
      "outputs": []
    },
    {
      "cell_type": "code",
      "source": [
        "# 'ARS_ID' 컬럼의 모든 값에 문자열 메서드 사용 (예: 문자열로 변환)\n",
        "df['ARS_ID'] = df['ARS_ID'].astype(str)"
      ],
      "metadata": {
        "id": "qPc6t1Ct2FHC"
      },
      "execution_count": null,
      "outputs": []
    },
    {
      "cell_type": "code",
      "source": [
        "# 필터링 조건\n",
        "출근_출발_keep = ['12111', '12112', '12436', '12457', '12014', '12432', '12351', '12010', '12430', '12466', '12465', '12434', '12463', '12192', '12197']\n",
        "\n",
        "# 조건에 맞는 행만 남기기\n",
        "출근_출발 = df[df['ARS_ID'].isin(출근_출발_keep)]\n",
        "\n",
        "# 결과 출력\n",
        "출근_출발"
      ],
      "metadata": {
        "id": "uk7hQcnv1QUg"
      },
      "execution_count": null,
      "outputs": []
    },
    {
      "cell_type": "code",
      "source": [
        "# 필터링 조건\n",
        "퇴근_출발_keep = ['22012', '22010', '22008', '23277', '23281', '23280', '23283', '23278', '23287', '23282', '23284', '23286', '23285', '23276', '23275']\n",
        "\n",
        "# 조건에 맞는 행만 남기기\n",
        "퇴근_출발 = df[df['ARS_ID'].isin(퇴근_출발_keep)]\n",
        "\n",
        "# 결과 출력\n",
        "퇴근_출발"
      ],
      "metadata": {
        "id": "NZ2EPLwg1Qky"
      },
      "execution_count": null,
      "outputs": []
    },
    {
      "cell_type": "code",
      "source": [
        "# 필터링 조건\n",
        "출근_도착_keep = ['12112', '12202', '12018', '14016', '12111', '13038', '12381', '13036', '2281', '13039', '12184', '12201', '12019', '2006', '12016']\n",
        "\n",
        "# 조건에 맞는 행만 남기기\n",
        "출근_도착 = df[df['ARS_ID'].isin(출근_도착_keep)]\n",
        "\n",
        "# 결과 출력\n",
        "출근_도착"
      ],
      "metadata": {
        "id": "AgFpAsVW2kF_"
      },
      "execution_count": null,
      "outputs": []
    },
    {
      "cell_type": "code",
      "source": [
        "# 필터링 조건\n",
        "퇴근_도착_keep = ['22011', '22012', '22013', '22015', '22014', '22004', '22010', '22009', '3165', '22019', '22293', '22008', '22007', '23281', '3166']\n",
        "\n",
        "# 조건에 맞는 행만 남기기\n",
        "퇴근_도착 = df[df['ARS_ID'].isin(퇴근_도착_keep)]\n",
        "\n",
        "# 결과 출력\n",
        "퇴근_도착"
      ],
      "metadata": {
        "id": "ZTCJNP_K287d"
      },
      "execution_count": null,
      "outputs": []
    }
  ]
}