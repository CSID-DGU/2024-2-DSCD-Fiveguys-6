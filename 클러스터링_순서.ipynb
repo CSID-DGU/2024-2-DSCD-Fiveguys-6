{
  "nbformat": 4,
  "nbformat_minor": 0,
  "metadata": {
    "colab": {
      "private_outputs": true,
      "provenance": [],
      "include_colab_link": true
    },
    "kernelspec": {
      "name": "python3",
      "display_name": "Python 3"
    },
    "language_info": {
      "name": "python"
    }
  },
  "cells": [
    {
      "cell_type": "markdown",
      "metadata": {
        "id": "view-in-github",
        "colab_type": "text"
      },
      "source": [
        "<a href=\"https://colab.research.google.com/github/CSID-DGU/2024-2-DSCD-Fiveguys-6/blob/main/%ED%81%B4%EB%9F%AC%EC%8A%A4%ED%84%B0%EB%A7%81_%EC%88%9C%EC%84%9C.ipynb\" target=\"_parent\"><img src=\"https://colab.research.google.com/assets/colab-badge.svg\" alt=\"Open In Colab\"/></a>"
      ]
    },
    {
      "cell_type": "code",
      "execution_count": null,
      "metadata": {
        "id": "QXmRNmkescvs"
      },
      "outputs": [],
      "source": [
        "from sklearn.cluster import KMeans\n",
        "import pandas as pd\n",
        "import matplotlib.pyplot as plt\n",
        "import numpy as np\n",
        "from sklearn.cluster import DBSCAN\n",
        "from sklearn.metrics.pairwise import haversine_distances\n",
        "import numpy as np\n",
        "import pandas as pd"
      ]
    },
    {
      "cell_type": "code",
      "source": [
        "df_morning = pd.read_csv('/content/drive/MyDrive/DSCD/출근_정류장_좌표_수요.csv', encoding='CP949')\n",
        "df_morning = df_morning[['ARS_ID', '출근시간_수요', '정류소명', 'X좌표', 'Y좌표']]\n",
        "df_morning = df_morning.rename(columns = {'X좌표': '경도', 'Y좌표': '위도'})\n",
        "df_morning = df_morning.drop(index=27)\n",
        "\n",
        "df_morning"
      ],
      "metadata": {
        "id": "XL6Ph3aFsqx-"
      },
      "execution_count": null,
      "outputs": []
    },
    {
      "cell_type": "code",
      "source": [
        "df_evening = pd.read_csv('/content/drive/MyDrive/DSCD/퇴근_정류장_좌표_수요.csv', encoding='CP949')\n",
        "df_evening = df_evening[['ARS_ID', '퇴근시간_수요', '정류소명', 'X좌표', 'Y좌표']]\n",
        "df_evening = df_evening.rename(columns = {'X좌표': '경도', 'Y좌표': '위도'})\n",
        "\n",
        "df_evening"
      ],
      "metadata": {
        "id": "POGx2813tx8F"
      },
      "execution_count": null,
      "outputs": []
    },
    {
      "cell_type": "code",
      "source": [
        "# 클러스터링에 사용할 데이터 (위도와 경도)\n",
        "coordinates_출근 = df_morning[['위도', '경도']]\n",
        "\n",
        "# K-Means 클러스터링 수행\n",
        "num_clusters_출근 = 4  # 원하는 클러스터 개수\n",
        "kmeans_출근 = KMeans(n_clusters=num_clusters_출근, random_state=0)\n",
        "df_morning['클러스터'] = kmeans_출근.fit_predict(coordinates_출근)\n",
        "\n",
        "# 결과 출력\n",
        "df_morning"
      ],
      "metadata": {
        "id": "F_NBQtZyu75b"
      },
      "execution_count": null,
      "outputs": []
    },
    {
      "cell_type": "code",
      "source": [
        "from sklearn.cluster import KMeans\n",
        "import matplotlib.pyplot as plt\n",
        "\n",
        "# KMeans 실행 및 Inertia 계산\n",
        "inertia_values = []  # Inertia 값 저장\n",
        "k_values = range(1, 11)  # k=1에서 k=10까지 실험\n",
        "\n",
        "for k in k_values:\n",
        "    kmeans = KMeans(n_clusters=k, random_state=0)\n",
        "    kmeans.fit(coordinates_출근)\n",
        "    inertia_values.append(kmeans.inertia_)  # Inertia 값 저장\n",
        "\n",
        "# 결과 시각화 (엘보우 기법)\n",
        "plt.figure(figsize=(8, 5))\n",
        "plt.plot(k_values, inertia_values, marker='o')\n",
        "plt.title('Elbow Method (Inertia vs. Number of Clusters)')\n",
        "plt.xlabel('Number of Clusters (k)')\n",
        "plt.ylabel('Inertia')\n",
        "plt.grid()\n",
        "plt.show()\n"
      ],
      "metadata": {
        "id": "G0rZUSuRyUFo"
      },
      "execution_count": null,
      "outputs": []
    },
    {
      "cell_type": "code",
      "source": [
        "import folium\n",
        "\n",
        "# Folium 지도 생성\n",
        "map_center = [df_morning['위도'].mean(), df_morning['경도'].mean()]\n",
        "m = folium.Map(location=map_center, zoom_start=13)\n",
        "\n",
        "# 클러스터링 결과를 지도에 추가\n",
        "colors = ['red', 'blue', 'green', 'purple', 'orange', 'darkred', 'lightblue', 'darkgreen', 'pink', 'cadetblue']\n",
        "colors_출근 = colors[:num_clusters_출근]\n",
        "for _, row in df_morning.iterrows():\n",
        "    cluster = row['클러스터']\n",
        "    color = colors_출근[cluster % len(colors)]  # 클러스터별 색상 할당\n",
        "    folium.CircleMarker(\n",
        "        location=[row['위도'], row['경도']],\n",
        "        radius=8,\n",
        "        color=color,\n",
        "        fill=True,\n",
        "        fill_color=color,\n",
        "        fill_opacity=0.7,\n",
        "        popup=f\"Station: {row['ARS_ID']}, Cluster: {cluster}\"\n",
        "    ).add_to(m)\n",
        "\n",
        "# 결과 지도 저장\n",
        "m.save('clustering_result_map_출근_홍대제외.html')"
      ],
      "metadata": {
        "id": "Gzg6qiAnvtMh"
      },
      "execution_count": null,
      "outputs": []
    },
    {
      "cell_type": "code",
      "source": [
        "# 클러스터링에 사용할 데이터 (위도와 경도)\n",
        "coordinates_퇴근 = df_evening[['위도', '경도']]\n",
        "\n",
        "# K-Means 클러스터링 수행\n",
        "num_clusters_퇴근 = 5  # 원하는 클러스터 개수\n",
        "kmeans_퇴근 = KMeans(n_clusters=num_clusters_퇴근, random_state=0)\n",
        "df_evening['클러스터'] = kmeans_퇴근.fit_predict(coordinates_퇴근)\n",
        "\n",
        "# 결과 출력\n",
        "df_evening"
      ],
      "metadata": {
        "id": "U9Mju36BxCLC"
      },
      "execution_count": null,
      "outputs": []
    },
    {
      "cell_type": "code",
      "source": [
        "from sklearn.cluster import KMeans\n",
        "import matplotlib.pyplot as plt\n",
        "\n",
        "# KMeans 실행 및 Inertia 계산\n",
        "inertia_values = []  # Inertia 값 저장\n",
        "k_values = range(1, 11)  # k=1에서 k=10까지 실험\n",
        "\n",
        "for k in k_values:\n",
        "    kmeans = KMeans(n_clusters=k, random_state=0)\n",
        "    kmeans.fit(coordinates_퇴근)\n",
        "    inertia_values.append(kmeans.inertia_)  # Inertia 값 저장\n",
        "\n",
        "# 결과 시각화 (엘보우 기법)\n",
        "plt.figure(figsize=(8, 5))\n",
        "plt.plot(k_values, inertia_values, marker='o')\n",
        "plt.title('Elbow Method (Inertia vs. Number of Clusters)')\n",
        "plt.xlabel('Number of Clusters (k)')\n",
        "plt.ylabel('Inertia')\n",
        "plt.grid()\n",
        "plt.show()\n"
      ],
      "metadata": {
        "id": "nIxeI4CJyaaz"
      },
      "execution_count": null,
      "outputs": []
    },
    {
      "cell_type": "code",
      "source": [
        "import folium\n",
        "\n",
        "# Folium 지도 생성\n",
        "map_center = [df_evening['위도'].mean(), df_evening['경도'].mean()]\n",
        "m = folium.Map(location=map_center, zoom_start=13)\n",
        "\n",
        "# 클러스터링 결과를 지도에 추가\n",
        "colors = ['red', 'blue', 'green', 'purple', 'orange', 'darkred', 'lightblue', 'darkgreen', 'pink', 'cadetblue']\n",
        "colors_출근 = colors[:num_clusters_퇴근]\n",
        "for _, row in df_evening.iterrows():\n",
        "    cluster = row['클러스터']\n",
        "    color = colors[cluster % len(colors)]  # 클러스터별 색상 할당\n",
        "    folium.CircleMarker(\n",
        "        location=[row['위도'], row['경도']],\n",
        "        radius=8,\n",
        "        color=color,\n",
        "        fill=True,\n",
        "        fill_color=color,\n",
        "        fill_opacity=0.7,\n",
        "        popup=f\"Station: {row['ARS_ID']}, Cluster: {cluster}\"\n",
        "    ).add_to(m)\n",
        "\n",
        "# 결과 지도 저장\n",
        "m.save('clustering_result_map_퇴근.html')"
      ],
      "metadata": {
        "id": "_k-LxQSTxE2A"
      },
      "execution_count": null,
      "outputs": []
    },
    {
      "cell_type": "code",
      "source": [
        "def find_closest_point_between_clusters(cluster1, cluster2):\n",
        "    \"\"\"\n",
        "    두 클러스터 간에서 가장 가까운 두 점을 반환.\n",
        "    cluster1에서 선택된 점은 반드시 cluster1에 속하며,\n",
        "    cluster2에서 선택된 점은 반드시 cluster2에 속합니다.\n",
        "    \"\"\"\n",
        "    cluster1_coords = cluster1[['위도', '경도']].values\n",
        "    cluster2_coords = cluster2[['위도', '경도']].values\n",
        "    distances = cdist(cluster1_coords, cluster2_coords, metric='euclidean')\n",
        "    i, j = np.unravel_index(np.argmin(distances), distances.shape)\n",
        "    return cluster1.iloc[i], cluster2.iloc[j]\n",
        "\n",
        "\n",
        "def find_farthest_point(cluster_df, reference_point):\n",
        "    \"\"\"클러스터 내에서 reference_point와 가장 먼 점 찾기\"\"\"\n",
        "    # 수치형 변환 (명시적으로 float64로 변환)\n",
        "    reference_point = np.array(reference_point, dtype=np.float64).reshape(1, -1)\n",
        "    distances = cdist(reference_point, cluster_df[['위도', '경도']].values, metric='euclidean')\n",
        "    farthest_idx = np.argmax(distances)\n",
        "    return cluster_df.iloc[farthest_idx]\n",
        "\n",
        "def find_closest_point(cluster_df, reference_point):\n",
        "    \"\"\"클러스터 내에서 reference_point와 가장 가까운 점 찾기\"\"\"\n",
        "    # reference_point가 객체가 아닌 수치형인지 확인 후 변환\n",
        "    reference_point = np.array(reference_point, dtype=np.float64).reshape(1, -1)\n",
        "    distances = cdist(reference_point, cluster_df[['위도', '경도']].values, metric='euclidean')\n",
        "    closest_idx = np.argmin(distances)\n",
        "    return cluster_df.iloc[closest_idx]"
      ],
      "metadata": {
        "id": "57XCVOAM8-Lu"
      },
      "execution_count": null,
      "outputs": []
    },
    {
      "cell_type": "code",
      "source": [
        "import numpy as np\n",
        "import pandas as pd\n",
        "from sklearn.cluster import KMeans\n",
        "from scipy.spatial.distance import cdist\n",
        "from itertools import permutations\n",
        "\n",
        "# 출근 클러스터 순서 결정\n",
        "# 3. 클러스터 간 최적 순서 결정 (TSP 방식)\n",
        "cluster_centroids_출근 = pd.DataFrame(kmeans_출근.cluster_centers_, columns=['위도', '경도'])\n",
        "cluster_centroids_출근['클러스터'] = range(num_clusters_출근)\n",
        "\n",
        "def calculate_tsp_route(locations):\n",
        "    \"\"\"단순 TSP로 최단 경로 계산\"\"\"\n",
        "    coords = locations[['위도', '경도']].values\n",
        "    min_distance = float('inf')\n",
        "    best_route = None\n",
        "    for perm in permutations(range(len(coords))):\n",
        "        dist = 0\n",
        "        for i in range(len(perm) - 1):\n",
        "            dist += np.linalg.norm(coords[perm[i]] - coords[perm[i + 1]])\n",
        "        if dist < min_distance:\n",
        "            min_distance = dist\n",
        "            best_route = perm\n",
        "    return best_route, min_distance\n",
        "\n",
        "# 클러스터 중심들로 최단 경로 계산\n",
        "route_출근, route_distance_출근 = calculate_tsp_route(cluster_centroids_출근)"
      ],
      "metadata": {
        "id": "hxI1PRya77cB"
      },
      "execution_count": null,
      "outputs": []
    },
    {
      "cell_type": "code",
      "source": [
        "# 클러스터 경계 최적화 (출근)\n",
        "final_route = []\n",
        "for i in range(len(route_출근)):\n",
        "    current_cluster = df_morning[df_morning['클러스터'] == route_출근[i]]\n",
        "\n",
        "    if i == 0:  # 첫 클러스터\n",
        "        # 첫 클러스터의 끝점: 다음 클러스터와 가장 가까운 점\n",
        "        next_cluster = df_morning[df_morning['클러스터'] == route_출근[i + 1]]\n",
        "        end_point, _ = find_closest_point_between_clusters(current_cluster, next_cluster)\n",
        "\n",
        "        # 첫 클러스터의 시작점: 끝점과 가장 먼 점\n",
        "        start_point = find_farthest_point(current_cluster, end_point[['위도', '경도']].values)\n",
        "\n",
        "    elif i == len(route_출근) - 1:  # 마지막 클러스터\n",
        "        # 마지막 클러스터의 시작점: 이전 클러스터 끝점과 가장 가까운 점\n",
        "        prev_coords = np.array(final_route[-1]['끝점'][['위도', '경도']].values, dtype=np.float64).reshape(1, -1)\n",
        "        start_point = find_closest_point(current_cluster, prev_coords)\n",
        "\n",
        "        # 마지막 클러스터의 끝점: 시작점과 가장 먼 점\n",
        "        end_point = find_farthest_point(current_cluster, start_point[['위도', '경도']].values)\n",
        "\n",
        "    else:  # 중간 클러스터\n",
        "        # 시작점: 이전 클러스터 끝점과 가장 가까운 점\n",
        "        prev_coords = np.array(final_route[-1]['끝점'][['위도', '경도']].values, dtype=np.float64).reshape(1, -1)\n",
        "        start_point = find_closest_point(current_cluster, prev_coords)\n",
        "\n",
        "        # 끝점: 다음 클러스터와 가장 가까운 점\n",
        "        next_cluster = df_morning[df_morning['클러스터'] == route_출근[i + 1]]\n",
        "        end_point, _ = find_closest_point_between_clusters(current_cluster, next_cluster)\n",
        "\n",
        "    final_route.append({'클러스터': route_출근[i], '시작점': start_point, '끝점': end_point})\n",
        "\n",
        "# 결과 출력\n",
        "print(\"출근시간 최적의 클러스터 간 순서:\")\n",
        "print(\" -> \".join([f\"클러스터 {cluster_centroids_출근.iloc[i]['클러스터']}\" for i in route_출근]))\n",
        "print(\"\\n클러스터 경계 정류장:\")\n",
        "for item in final_route:\n",
        "    print(f\"클러스터 {item['클러스터']}: 시작점 - {item['시작점']['ARS_ID']}, 끝점 - {item['끝점']['ARS_ID']}\")"
      ],
      "metadata": {
        "id": "pOb6QLar9CZG"
      },
      "execution_count": null,
      "outputs": []
    },
    {
      "cell_type": "code",
      "source": [
        "import numpy as np\n",
        "import pandas as pd\n",
        "from sklearn.cluster import KMeans\n",
        "from scipy.spatial.distance import cdist\n",
        "from itertools import permutations\n",
        "\n",
        "\n",
        "# 3. 클러스터 간 최적 순서 결정 (TSP 방식)\n",
        "cluster_centroids_퇴근 = pd.DataFrame(kmeans_퇴근.cluster_centers_, columns=['위도', '경도'])\n",
        "cluster_centroids_퇴근['클러스터'] = range(num_clusters_퇴근)\n",
        "\n",
        "def calculate_tsp_route(cluster_centroids):\n",
        "    \"\"\"단순 TSP로 최단 경로 계산\"\"\"\n",
        "    coords = cluster_centroids[['위도', '경도']].values\n",
        "    min_distance = float('inf')\n",
        "    best_route = None\n",
        "    for perm in permutations(range(len(coords))):\n",
        "        dist = 0\n",
        "        for i in range(len(perm) - 1):\n",
        "            dist += np.linalg.norm(coords[perm[i]] - coords[perm[i + 1]])\n",
        "        if dist < min_distance:\n",
        "            min_distance = dist\n",
        "            best_route = perm\n",
        "    return best_route, min_distance\n",
        "\n",
        "# 클러스터 중심들로 최단 경로 계산\n",
        "route_퇴근, route_distance_퇴근 = calculate_tsp_route(cluster_centroids_퇴근)"
      ],
      "metadata": {
        "id": "q2LVn2JY_-7k"
      },
      "execution_count": null,
      "outputs": []
    },
    {
      "cell_type": "code",
      "source": [
        "# 클러스터 경계 최적화 (퇴근)\n",
        "final_route = []\n",
        "for i in range(len(route_퇴근)):\n",
        "    current_cluster = df_evening[df_evening['클러스터'] == route_퇴근[i]]\n",
        "\n",
        "    if i == 0:  # 첫 클러스터\n",
        "        # 첫 클러스터의 끝점: 다음 클러스터와 가장 가까운 점\n",
        "        next_cluster = df_evening[df_evening['클러스터'] == route_퇴근[i + 1]]\n",
        "        end_point, _ = find_closest_point_between_clusters(current_cluster, next_cluster)\n",
        "\n",
        "        # 첫 클러스터의 시작점: 끝점과 가장 먼 점\n",
        "        start_point = find_farthest_point(current_cluster, end_point[['위도', '경도']].values)\n",
        "\n",
        "    elif i == len(route_퇴근) - 1:  # 마지막 클러스터\n",
        "        # 마지막 클러스터의 시작점: 이전 클러스터 끝점과 가장 가까운 점\n",
        "        prev_coords = np.array(final_route[-1]['끝점'][['위도', '경도']].values, dtype=np.float64).reshape(1, -1)\n",
        "        start_point = find_closest_point(current_cluster, prev_coords)\n",
        "\n",
        "        # 마지막 클러스터의 끝점: 시작점과 가장 먼 점\n",
        "        end_point = find_farthest_point(current_cluster, start_point[['위도', '경도']].values)\n",
        "\n",
        "    else:  # 중간 클러스터\n",
        "        # 시작점: 이전 클러스터 끝점과 가장 가까운 점\n",
        "        prev_coords = np.array(final_route[-1]['끝점'][['위도', '경도']].values, dtype=np.float64).reshape(1, -1)\n",
        "        start_point = find_closest_point(current_cluster, prev_coords)\n",
        "\n",
        "        # 끝점: 다음 클러스터와 가장 가까운 점\n",
        "        next_cluster = df_evening[df_evening['클러스터'] == route_퇴근[i + 1]]\n",
        "        end_point, _ = find_closest_point_between_clusters(current_cluster, next_cluster)\n",
        "\n",
        "    final_route.append({'클러스터': route_퇴근[i], '시작점': start_point, '끝점': end_point})\n",
        "\n",
        "# 결과 출력\n",
        "print(\"퇴근시간 최적의 클러스터 간 순서:\")\n",
        "print(\" -> \".join([f\"클러스터 {cluster_centroids_퇴근.iloc[i]['클러스터']}\" for i in route_퇴근]))\n",
        "print(\"\\n클러스터 경계 정류장:\")\n",
        "for item in final_route:\n",
        "    print(f\"클러스터 {item['클러스터']}: 시작점 - {item['시작점']['ARS_ID']}, 끝점 - {item['끝점']['ARS_ID']}\")"
      ],
      "metadata": {
        "id": "cIITrvjw_0Jd"
      },
      "execution_count": null,
      "outputs": []
    }
  ]
}