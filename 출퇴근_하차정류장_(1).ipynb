{
  "nbformat": 4,
  "nbformat_minor": 0,
  "metadata": {
    "colab": {
      "private_outputs": true,
      "provenance": [],
      "include_colab_link": true
    },
    "kernelspec": {
      "name": "python3",
      "display_name": "Python 3"
    },
    "language_info": {
      "name": "python"
    }
  },
  "cells": [
    {
      "cell_type": "markdown",
      "metadata": {
        "id": "view-in-github",
        "colab_type": "text"
      },
      "source": [
        "<a href=\"https://colab.research.google.com/github/CSID-DGU/2024-2-DSCD-Fiveguys-6/blob/main/%EC%B6%9C%ED%87%B4%EA%B7%BC_%ED%95%98%EC%B0%A8%EC%A0%95%EB%A5%98%EC%9E%A5_(1).ipynb\" target=\"_parent\"><img src=\"https://colab.research.google.com/assets/colab-badge.svg\" alt=\"Open In Colab\"/></a>"
      ]
    },
    {
      "cell_type": "code",
      "source": [
        "from google.colab import drive\n",
        "drive.mount('/content/drive')"
      ],
      "metadata": {
        "id": "Dcw5o3nl05yu"
      },
      "execution_count": null,
      "outputs": []
    },
    {
      "cell_type": "code",
      "execution_count": null,
      "metadata": {
        "id": "lXWdR5Y_2pQy"
      },
      "outputs": [],
      "source": [
        "import pandas as pd"
      ]
    },
    {
      "cell_type": "code",
      "source": [
        "df = pd.read_csv('/content/drive/MyDrive/DSCD/data/2024년_버스노선별_정류장별_시간대별_승하차_인원_정보(09월) (3).csv', encoding='CP949')"
      ],
      "metadata": {
        "id": "WJ3IqmtX3ADF"
      },
      "execution_count": null,
      "outputs": []
    },
    {
      "cell_type": "code",
      "source": [
        "df"
      ],
      "metadata": {
        "id": "HI2xEwsr3GJa"
      },
      "execution_count": null,
      "outputs": []
    },
    {
      "cell_type": "code",
      "source": [
        "df_출근 = df[['노선번호', '노선명', '버스정류장ARS번호', '역명', '7시승차총승객수', '7시하차총승객수', '8시승차총승객수', '8시하차총승객수']]\n",
        "df_퇴근 = df[['노선번호', '노선명', '버스정류장ARS번호', '역명', '18시승차총승객수', '18시하차총승객수', '19시승차총승객수', '19시하차총승객수']]"
      ],
      "metadata": {
        "id": "ueyqgINR3HOR"
      },
      "execution_count": null,
      "outputs": []
    },
    {
      "cell_type": "code",
      "source": [
        "출근_selected_values = ['12111', '12112', '12436', '12457', '12014', '12432', '12351', '12010', '12430', '12466']\n",
        "퇴근_selected_values = ['22012', '22010', '22008', '23277', '23281', '23280', '23283', '23278', '23287', '23282']\n",
        "출근_filtered_df = df_출근[df_출근['버스정류장ARS번호'].isin(출근_selected_values)]\n",
        "퇴근_filtered_df = df_퇴근[df_퇴근['버스정류장ARS번호'].isin(퇴근_selected_values)]\n",
        "\n",
        "퇴근_filtered_df"
      ],
      "metadata": {
        "id": "qyHXN7i03X27"
      },
      "execution_count": null,
      "outputs": []
    },
    {
      "cell_type": "code",
      "source": [
        "출근_filtered_df"
      ],
      "metadata": {
        "id": "fob1iJJ08BAT"
      },
      "execution_count": null,
      "outputs": []
    },
    {
      "cell_type": "code",
      "source": [
        "출근_노선번호 = 출근_filtered_df['노선번호'].unique()\n",
        "\n",
        "출근_노선번호"
      ],
      "metadata": {
        "id": "hiyyahtM38fj"
      },
      "execution_count": null,
      "outputs": []
    },
    {
      "cell_type": "code",
      "source": [
        "퇴근_노선번호 = 퇴근_filtered_df['노선번호'].unique()\n",
        "\n",
        "퇴근_노선번호"
      ],
      "metadata": {
        "id": "lFyKTNSN8Ej8"
      },
      "execution_count": null,
      "outputs": []
    },
    {
      "cell_type": "code",
      "source": [
        "filtered_df_출근 = df_출근[df_출근['노선번호'].isin(출근_노선번호)]\n",
        "filtered_df_출근"
      ],
      "metadata": {
        "id": "wYhHLc5F9cRc"
      },
      "execution_count": null,
      "outputs": []
    },
    {
      "cell_type": "code",
      "source": [
        "filtered_df_퇴근 = df_퇴근[df_퇴근['노선번호'].isin(퇴근_노선번호)]\n",
        "filtered_df_퇴근"
      ],
      "metadata": {
        "id": "vSRZhnAl9fLw"
      },
      "execution_count": null,
      "outputs": []
    },
    {
      "cell_type": "code",
      "source": [
        "filtered_df_출근 = filtered_df_출근[['버스정류장ARS번호','역명', '7시하차총승객수', '8시하차총승객수']]\n",
        "filtered_df_퇴근 = filtered_df_퇴근[['버스정류장ARS번호', '역명', '18시하차총승객수', '19시하차총승객수']]\n",
        "filtered_df_퇴근"
      ],
      "metadata": {
        "id": "etVojE9j9l4G"
      },
      "execution_count": null,
      "outputs": []
    },
    {
      "cell_type": "code",
      "source": [
        "filtered_df_출근"
      ],
      "metadata": {
        "id": "kHjO8V7L95lt"
      },
      "execution_count": null,
      "outputs": []
    },
    {
      "cell_type": "code",
      "source": [
        "filtered_df_출근['버스정류장ARS번호'].nunique()"
      ],
      "metadata": {
        "id": "Jq6uxCKl4-j9"
      },
      "execution_count": null,
      "outputs": []
    },
    {
      "cell_type": "code",
      "source": [
        "filtered_df_퇴근['버스정류장ARS번호'].nunique()"
      ],
      "metadata": {
        "id": "Vi8G4cjh9-zI"
      },
      "execution_count": null,
      "outputs": []
    },
    {
      "cell_type": "code",
      "source": [
        "grouped_df_출근 = filtered_df_출근.groupby('버스정류장ARS번호')[['7시하차총승객수', '8시하차총승객수']].sum().reset_index()\n",
        "grouped_df_출근['하차총승객수_합'] = grouped_df_출근['7시하차총승객수'] + grouped_df_출근['8시하차총승객수']\n",
        "grouped_df_출근"
      ],
      "metadata": {
        "id": "CdvHa8km4lGh"
      },
      "execution_count": null,
      "outputs": []
    },
    {
      "cell_type": "code",
      "source": [
        "grouped_df_퇴근 = filtered_df_퇴근.groupby('버스정류장ARS번호')[['18시하차총승객수', '19시하차총승객수']].sum().reset_index()\n",
        "grouped_df_퇴근['하차총승객수_합'] = grouped_df_퇴근['18시하차총승객수'] + grouped_df_퇴근['19시하차총승객수']\n",
        "grouped_df_퇴근"
      ],
      "metadata": {
        "id": "mSTYikeB-oYs"
      },
      "execution_count": null,
      "outputs": []
    },
    {
      "cell_type": "code",
      "source": [
        "grouped_df_출근 = grouped_df_출근.sort_values(by='하차총승객수_합', ascending=False)\n",
        "grouped_df_출근.head(30)"
      ],
      "metadata": {
        "id": "OnY3cVDb5cjs"
      },
      "execution_count": null,
      "outputs": []
    },
    {
      "cell_type": "code",
      "source": [
        "grouped_df_퇴근 = grouped_df_퇴근.sort_values(by='하차총승객수_합', ascending=False)\n",
        "grouped_df_퇴근.head(30)"
      ],
      "metadata": {
        "id": "OrCniizs-3lm"
      },
      "execution_count": null,
      "outputs": []
    },
    {
      "cell_type": "code",
      "source": [],
      "metadata": {
        "id": "kmmoV4E2-27e"
      },
      "execution_count": null,
      "outputs": []
    }
  ]
}