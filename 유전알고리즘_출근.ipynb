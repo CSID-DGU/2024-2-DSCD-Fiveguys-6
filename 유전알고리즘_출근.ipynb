{
  "nbformat": 4,
  "nbformat_minor": 0,
  "metadata": {
    "colab": {
      "private_outputs": true,
      "provenance": [],
      "include_colab_link": true
    },
    "kernelspec": {
      "name": "python3",
      "display_name": "Python 3"
    },
    "language_info": {
      "name": "python"
    }
  },
  "cells": [
    {
      "cell_type": "markdown",
      "metadata": {
        "id": "view-in-github",
        "colab_type": "text"
      },
      "source": [
        "<a href=\"https://colab.research.google.com/github/CSID-DGU/2024-2-DSCD-Fiveguys-6/blob/main/%EC%9C%A0%EC%A0%84%EC%95%8C%EA%B3%A0%EB%A6%AC%EC%A6%98_%EC%B6%9C%EA%B7%BC.ipynb\" target=\"_parent\"><img src=\"https://colab.research.google.com/assets/colab-badge.svg\" alt=\"Open In Colab\"/></a>"
      ]
    },
    {
      "cell_type": "code",
      "source": [
        "!pip install osmnx"
      ],
      "metadata": {
        "id": "Y1QPM8Yf4gBV"
      },
      "execution_count": null,
      "outputs": []
    },
    {
      "cell_type": "code",
      "source": [
        "!pip install deap"
      ],
      "metadata": {
        "id": "HM6hvruo4lFp"
      },
      "execution_count": null,
      "outputs": []
    },
    {
      "cell_type": "code",
      "execution_count": null,
      "metadata": {
        "id": "wGkU0oTf4Ult"
      },
      "outputs": [],
      "source": [
        "import osmnx as ox\n",
        "import networkx as nx\n",
        "import random\n",
        "from deap import base, creator, tools, algorithms\n",
        "import math"
      ]
    },
    {
      "cell_type": "code",
      "source": [
        "# 후보 정류장 좌표 (예: {정류장 번호: (위도, 경도)}) 출근\n",
        "stop_coordinates = {\n",
        "    1: (126.913730, 37.643407),\n",
        "    2: (126.919017, 37.631088),\n",
        "    3: (126.918989,\t37.636768),\n",
        "    4: (126.918577,\t37.637248),\n",
        "    5: (126.931529,\t37.633348),\n",
        "    6: (126.931007,\t37.631383),\n",
        "    7: (126.934438,\t37.636736),\n",
        "    8: (126.923090,\t37.643408),\n",
        "    9: (126.930479,\t37.648435),\n",
        "    10:(126.928970,\t37.644075),\n",
        "    11:(126.921548,\t37.641157),\n",
        "    12:(126.927130,\t37.645633),\n",
        "    13:(126.929249,\t37.634314),\n",
        "    14:(126.926262, 37.634267),\n",
        "    15:(126.921336,\t37.644080),\n",
        "\n",
        "    16: (126.972855, 37.555479),\n",
        "    17: (126.967980, 37.566885),\n",
        "    18: (126.919996, 37.625283),\n",
        "    19: (126.920934, 37.619323),\n",
        "    20: (126.925090, 37.615607),\n",
        "    21: (126.918989, 37.636768),\n",
        "    22: (126.918577, 37.637248),\n",
        "    23: (126.919996, 37.617821),\n",
        "    24: (126.924380, 37.620520),\n",
        "    25: (126.922534, 37.619597),\n",
        "    26: (126.934226, 37.600872),\n",
        "    27: (126.962533, 37.569939),\n",
        "    28: (126.965830, 37.566475),\n",
        "    29: (126.969224, 37.562476),\n",
        "    30: (126.924316, 37.557326)\n",
        "    # 필요에 따라 추가 가능\n",
        "}"
      ],
      "metadata": {
        "id": "GyupRkpA4ZkM"
      },
      "execution_count": null,
      "outputs": []
    },
    {
      "cell_type": "code",
      "source": [
        "# 각 정류장별 대중교통 수요 (예: {정류장 번호: 수요 값}) 출근\n",
        "stop_demand ={\n",
        "    1: 4351,\n",
        "    2: 6777,\n",
        "    3: 7726,\n",
        "    4: 7100,\n",
        "    5: 2904,\n",
        "    6: 2767,\n",
        "    7: 5883,\n",
        "    8: 3513,\n",
        "    9: 6158,\n",
        "    10:3247,\n",
        "    11:7117,\n",
        "    12:7041,\n",
        "    13:3290,\n",
        "    14:3610,\n",
        "    15:3662,\n",
        "\n",
        "    16: 20449,\n",
        "    17: 15811,\n",
        "    18: 5066,\n",
        "    19: 12609,\n",
        "    20: 5466,\n",
        "    21: 8772,\n",
        "    22: 18999,\n",
        "    23: 20715,\n",
        "    24: 6312,\n",
        "    25: 14539,\n",
        "    26: 36335,\n",
        "    27: 19854,\n",
        "    28: 21028,\n",
        "    29: 18610,\n",
        "    30: 26520\n",
        "    # 필요에 따라 추가 가능\n",
        "}"
      ],
      "metadata": {
        "id": "4jxUnBu-6XpF"
      },
      "execution_count": null,
      "outputs": []
    },
    {
      "cell_type": "code",
      "source": [
        "# 도로 네트워크 불러오기 (서울시 예제)\n",
        "G = ox.graph_from_place('Seoul, South Korea', network_type='drive')"
      ],
      "metadata": {
        "id": "coxAJoPP7NeS"
      },
      "execution_count": null,
      "outputs": []
    },
    {
      "cell_type": "code",
      "source": [
        "import matplotlib.pyplot as plt\n",
        "\n",
        "# 도로 네트워크 시각화\n",
        "fig, ax = ox.plot_graph(G, node_size=5, edge_color='gray', edge_linewidth=0.5, show=True, close=False)\n",
        "plt.show()"
      ],
      "metadata": {
        "id": "yPJii6aS7ckc"
      },
      "execution_count": null,
      "outputs": []
    },
    {
      "cell_type": "code",
      "source": [
        "# OSMnx 네트워크에서 가장 가까운 노드 찾기\n",
        "def get_nearest_node(coord):\n",
        "    return ox.distance.nearest_nodes(G, coord[1], coord[0])\n",
        "\n",
        "# 정류장 간 최단 경로 거리 계산 함수\n",
        "def road_distance(coord1, coord2):\n",
        "    node1 = get_nearest_node(coord1)\n",
        "    node2 = get_nearest_node(coord2)\n",
        "    try:\n",
        "        return nx.shortest_path_length(G, node1, node2, weight='length') / 1000  # 단위: km\n",
        "    except nx.NetworkXNoPath:\n",
        "        return float('inf')  # 경로가 없는 경우 매우 큰 값 반환\n",
        "\n",
        "# 수요 재분배 함수\n",
        "def redistribute_demand(removed_stop, current_route):\n",
        "    removed_coord = stop_coordinates[removed_stop]\n",
        "    total_demand = stop_demand[removed_stop]\n",
        "    demand_distribution = {}\n",
        "\n",
        "    for stop in current_route:\n",
        "        stop_coord = stop_coordinates[stop]\n",
        "        distance = road_distance(removed_coord, stop_coord)\n",
        "        if distance < float('inf'):  # 경로가 존재할 때만\n",
        "            weight = max(0, 1 - (distance / 2))  # 2km 내에서 가중치 설정\n",
        "            demand_distribution[stop] = total_demand * weight\n",
        "\n",
        "    return {stop: demand for stop, demand in demand_distribution.items() if demand > 0}\n",
        "\n",
        "def evaluate_route_with_time_and_demand(individual):\n",
        "    total_distance = 0\n",
        "    total_demand = 0\n",
        "    total_stop_time = 0\n",
        "\n",
        "    # 기본 정차 시간 및 승하차 시간 설정\n",
        "    stop_time_per_stop = 1  # 정차 시간 (분)\n",
        "    load_unload_time_per_passenger = 0.05  # 승하차 시간 (1명당 0.05분)\n",
        "\n",
        "    for i in range(len(individual) - 1):\n",
        "        stop1 = stop_coordinates[individual[i]]\n",
        "        stop2 = stop_coordinates[individual[i + 1]]\n",
        "        distance = road_distance(stop1, stop2)\n",
        "\n",
        "        if distance == float('inf'):\n",
        "            return float('inf'),  # 경로가 없을 경우 매우 낮은 적합도 반환\n",
        "\n",
        "        total_distance += distance\n",
        "        stop_demand_value = stop_demand.get(individual[i], 0)\n",
        "        total_demand += stop_demand_value\n",
        "\n",
        "        # 정차 시간 및 승하차 시간 계산\n",
        "        total_stop_time += stop_time_per_stop\n",
        "        total_stop_time += stop_demand_value * load_unload_time_per_passenger\n",
        "\n",
        "    # 마지막 정류장 처리\n",
        "    last_stop_demand = stop_demand.get(individual[-1], 0)\n",
        "    total_stop_time += stop_time_per_stop\n",
        "    total_stop_time += last_stop_demand * load_unload_time_per_passenger\n",
        "    total_demand += last_stop_demand\n",
        "\n",
        "    # 정류장 제거 및 수요 재분배\n",
        "    if random.random() < 0.1:  # 정류장 제거 확률\n",
        "        removed_stop = random.choice(individual)\n",
        "        new_route = individual[:]\n",
        "        new_route.remove(removed_stop)\n",
        "        redistributed_demand = redistribute_demand(removed_stop, new_route)\n",
        "\n",
        "        # 재분배된 수요 반영\n",
        "        for stop, demand in redistributed_demand.items():\n",
        "            total_demand += demand\n",
        "\n",
        "    # 스케일링된 적합도 계산\n",
        "    # 각 요소의 가중치를 설정하여 조정 (예제: 수요에 더 큰 가중치 부여)\n",
        "    demand_weight = 1.0\n",
        "    stop_time_weight = 0.5\n",
        "    distance_weight = 0.3\n",
        "\n",
        "    fitness = (demand_weight * total_demand) - (stop_time_weight * total_stop_time) - (distance_weight * total_distance)\n",
        "    return fitness,  # 튜플로 반환"
      ],
      "metadata": {
        "id": "VFx7ifGb__8B"
      },
      "execution_count": null,
      "outputs": []
    },
    {
      "cell_type": "code",
      "source": [
        "# DEAP 초기화\n",
        "creator.create(\"FitnessMin\", base.Fitness, weights=(-1.0,))  # 거리 최소화 및 수요 반영\n",
        "creator.create(\"Individual\", list, fitness=creator.FitnessMin)\n",
        "\n",
        "toolbox = base.Toolbox()\n",
        "toolbox.register(\"attr_stop\", lambda: random.choice(list(stop_coordinates.keys())))\n",
        "toolbox.register(\"individual\", tools.initRepeat, creator.Individual, toolbox.attr_stop, n=30)  # 정류장 수 설정\n",
        "toolbox.register(\"population\", tools.initRepeat, list, toolbox.individual)\n",
        "\n",
        "toolbox.register(\"mate\", tools.cxOrdered)\n",
        "toolbox.register(\"mutate\", tools.mutShuffleIndexes, indpb=0.2)\n",
        "toolbox.register(\"select\", tools.selTournament, tournsize=3)\n",
        "toolbox.register(\"evaluate\", evaluate_route_with_time_and_demand)"
      ],
      "metadata": {
        "id": "dqVSmLX87Qs7"
      },
      "execution_count": null,
      "outputs": []
    },
    {
      "cell_type": "code",
      "source": [
        "# 유전 알고리즘 실행\n",
        "population = toolbox.population(n=100)\n",
        "NGEN = 50  # 세대 수\n",
        "CXPB, MUTPB = 0.7, 0.2  # 교차와 변이 확률\n",
        "\n",
        "for gen in range(NGEN):\n",
        "    print(f\"Generation {gen + 1}\")  # 현재 세대 출력\n",
        "\n",
        "    # 선택 및 복제\n",
        "    offspring = toolbox.select(population, len(population))\n",
        "    offspring = list(map(toolbox.clone, offspring))\n",
        "\n",
        "    # 교차 연산\n",
        "    for child1, child2 in zip(offspring[::2], offspring[1::2]):\n",
        "        if random.random() < CXPB:\n",
        "            if len(child1) == len(child2):  # 개체 길이 확인\n",
        "                toolbox.mate(child1, child2)\n",
        "                del child1.fitness.values\n",
        "                del child2.fitness.values\n",
        "            else:\n",
        "                print(\"Skipping crossover due to mismatched lengths\")\n",
        "\n",
        "    # 변이 연산\n",
        "    for mutant in offspring:\n",
        "        if random.random() < MUTPB:\n",
        "            toolbox.mutate(mutant)\n",
        "        del mutant.fitness.values\n",
        "\n",
        "    # 적합도 재평가\n",
        "    invalid_ind = [ind for ind in offspring if not ind.fitness.valid]\n",
        "    fitnesses = map(toolbox.evaluate, invalid_ind)\n",
        "    for ind, fit in zip(invalid_ind, fitnesses):\n",
        "        ind.fitness.values = fit\n",
        "\n",
        "    # 세대 교체\n",
        "    population[:] = offspring\n",
        "\n",
        "    # 현재 세대의 최적 결과 출력\n",
        "    best_individual = tools.selBest(population, 1)[0]\n",
        "    print(f\"  Best Individual: {best_individual}\")\n",
        "    print(f\"  Fitness: {best_individual.fitness.values[0]}\")\n",
        "\n",
        "# 최적 노선 출력\n",
        "best_individual = tools.selBest(population, 1)[0]\n",
        "print(\"최적 노선:\", best_individual)\n",
        "print(\"적합도(총 거리 - 수요):\", best_individual.fitness.values[0])"
      ],
      "metadata": {
        "id": "Q_YtGnD08uqk"
      },
      "execution_count": null,
      "outputs": []
    }
  ]
}